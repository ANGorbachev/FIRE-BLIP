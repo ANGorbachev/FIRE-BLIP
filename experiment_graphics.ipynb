{
 "cells": [
  {
   "cell_type": "markdown",
   "id": "a93a0507-bc25-4a11-918f-165158537996",
   "metadata": {},
   "source": [
    "## 0. Imports"
   ]
  },
  {
   "cell_type": "code",
   "execution_count": 1,
   "id": "815168f3-daf8-4788-afbd-00f2600bdba1",
   "metadata": {},
   "outputs": [],
   "source": [
    "# Чтобы не вылетала ошибка Kernel Error при построении графиков в matplotlib\n",
    "import os\n",
    "os.environ['KMP_DUPLICATE_LIB_OK'] = 'True'"
   ]
  },
  {
   "cell_type": "code",
   "execution_count": 2,
   "id": "71b9809e-56bf-4731-8c08-63924fda3243",
   "metadata": {},
   "outputs": [
    {
     "name": "stderr",
     "output_type": "stream",
     "text": [
      "C:\\Users\\Admin\\AppData\\Local\\Temp\\ipykernel_4064\\438927155.py:19: DeprecationWarning: pkg_resources is deprecated as an API. See https://setuptools.pypa.io/en/latest/pkg_resources.html\n",
      "  import pkg_resources\n"
     ]
    }
   ],
   "source": [
    "import numpy as np # linear algebra\n",
    "import pandas as pd # data processing, CSV file I/O (e.g. pd.read_csv)\n",
    "import os\n",
    "import torchvision.transforms as transforms\n",
    "from torchvision.datasets import ImageFolder\n",
    "from torch.utils.data import DataLoader, ConcatDataset\n",
    "import matplotlib.pyplot as plt\n",
    "import torch\n",
    "from torch.utils.data import Dataset\n",
    "from PIL import Image\n",
    "import matplotlib.pyplot as plt\n",
    "import torchvision\n",
    "from torchvision.datasets import DatasetFolder\n",
    "import torch.nn as nn\n",
    "import torch.optim as optim\n",
    "import torch.nn.functional as F\n",
    "\n",
    "import sys\n",
    "import pkg_resources"
   ]
  },
  {
   "cell_type": "markdown",
   "id": "70d170b8-5a43-42c1-b9a6-5f9a5aa5c6b9",
   "metadata": {},
   "source": [
    "## 1. Prepare the data"
   ]
  },
  {
   "cell_type": "code",
   "execution_count": 3,
   "id": "c9919d92-9863-4c1c-b90c-18fec2adc5d8",
   "metadata": {},
   "outputs": [
    {
     "data": {
      "text/plain": [
       "[{'epoch': 1, 'train_loss': 94.2837, 'val_acc': 81.94},\n",
       " {'epoch': 2, 'train_loss': 93.2831, 'val_acc': 82.5},\n",
       " {'epoch': 3, 'train_loss': 92.9134, 'val_acc': 82.36},\n",
       " {'epoch': 4, 'train_loss': 92.5122, 'val_acc': 87.12},\n",
       " {'epoch': 5, 'train_loss': 91.9353, 'val_acc': 86.46},\n",
       " {'epoch': 6, 'train_loss': 91.3762, 'val_acc': 88.86},\n",
       " {'epoch': 7, 'train_loss': 90.9795, 'val_acc': 90.52},\n",
       " {'epoch': 8, 'train_loss': 90.4949, 'val_acc': 92.1},\n",
       " {'epoch': 9, 'train_loss': 90.1467, 'val_acc': 92.46},\n",
       " {'epoch': 10, 'train_loss': 89.9058, 'val_acc': 93.88}]"
      ]
     },
     "execution_count": 3,
     "metadata": {},
     "output_type": "execute_result"
    }
   ],
   "source": [
    "import re\n",
    "\n",
    "# Открыть файл и прочитать данные\n",
    "with open(\"./models/blip.txt\", \"r\", encoding=\"utf-8\") as file:\n",
    "    lines = file.readlines()\n",
    "\n",
    "# Для хранения результатов\n",
    "epoch_data_blip = []\n",
    "\n",
    "# Регулярные выражения для поиска нужных данных\n",
    "train_loss_pattern = re.compile(r\"Epoch (\\d+), Train Loss: ([\\d.]+)\")\n",
    "val_acc_pattern = re.compile(r\"Validation Accuracy: ([\\d.]+)%\")\n",
    "\n",
    "# Перебор строк и извлечение данных\n",
    "for line in lines:\n",
    "    # Ищем Train Loss\n",
    "    train_loss_match = train_loss_pattern.search(line)\n",
    "    if train_loss_match:\n",
    "        epoch = int(train_loss_match.group(1))\n",
    "        train_loss = float(train_loss_match.group(2))\n",
    "        epoch_data_blip.append({\"epoch\": epoch, \"train_loss\": train_loss, \"val_acc\": None})\n",
    "    \n",
    "    # Ищем Validation Accuracy (добавим в существующую эпоху)\n",
    "    val_acc_match = val_acc_pattern.search(line)\n",
    "    if val_acc_match:\n",
    "        val_acc = float(val_acc_match.group(1))\n",
    "        # Найдем текущую эпоху и добавим val_acc\n",
    "        if epoch_data_blip:\n",
    "            epoch_data_blip[-1][\"val_acc\"] = val_acc\n",
    "\n",
    "# Вывод результатов\n",
    "# for data in epoch_data_blip:\n",
    "#     print(f\"Epoch {data['epoch']}: Train Loss = {data['train_loss']}, Validation Accuracy = {data['val_acc']}%\")\n",
    "epoch_data_blip"
   ]
  },
  {
   "cell_type": "code",
   "execution_count": 4,
   "id": "cfd89bf3-f894-4888-9e90-7e655ffe107a",
   "metadata": {},
   "outputs": [
    {
     "data": {
      "text/plain": [
       "[{'epoch': 1, 'val_acc': 78.08},\n",
       " {'epoch': 2, 'val_acc': 86.14},\n",
       " {'epoch': 3, 'val_acc': 88.16},\n",
       " {'epoch': 4, 'val_acc': 89.88},\n",
       " {'epoch': 5, 'val_acc': 89.26},\n",
       " {'epoch': 6, 'val_acc': 89.06},\n",
       " {'epoch': 7, 'val_acc': 89.06},\n",
       " {'epoch': 8, 'val_acc': 89.1},\n",
       " {'epoch': 9, 'val_acc': 89.06},\n",
       " {'epoch': 10, 'val_acc': 89.04}]"
      ]
     },
     "execution_count": 4,
     "metadata": {},
     "output_type": "execute_result"
    }
   ],
   "source": [
    "import re\n",
    "\n",
    "# Открыть файл и прочитать данные\n",
    "with open(\"./models/fire.txt\", \"r\", encoding=\"utf-8\") as file:\n",
    "    lines = file.readlines()\n",
    "\n",
    "# Для хранения результатов\n",
    "epoch_data_fire = []\n",
    "\n",
    "# Регулярные выражения для поиска нужных данных\n",
    "# train_loss_pattern = re.compile(r\"Epoch (\\d+), Train Loss: ([\\d.]+)\")\n",
    "# val_acc_pattern = re.compile(r\"Validation Accuracy: ([\\d.]+)%\")\n",
    "val_acc_pattern = re.compile(r\"Validation Accuracy of Epoch (\\d+): ([\\d.]+)%\")\n",
    "\n",
    "# Перебор строк и извлечение данных\n",
    "for line in lines:\n",
    "    # Ищем Train Loss\n",
    "    # train_loss_match = train_loss_pattern.search(line)\n",
    "    # if train_loss_match:\n",
    "    #     epoch = int(train_loss_match.group(1))\n",
    "    #     train_loss = float(train_loss_match.group(2))\n",
    "    #     epoch_data.append({\"epoch\": epoch, \"train_loss\": train_loss, \"val_acc\": None})\n",
    "    \n",
    "    # Ищем Validation Accuracy (добавим в существующую эпоху)\n",
    "    val_acc_match = val_acc_pattern.search(line)\n",
    "    if val_acc_match:\n",
    "        epoch = int(val_acc_match.group(1))\n",
    "        val_acc = float(val_acc_match.group(2))\n",
    "        epoch_data_fire.append({\"epoch\": epoch, \"val_acc\": val_acc})\n",
    "\n",
    "# Вывод результатов\n",
    "# for data in epoch_data_fire:\n",
    "#     print(f\"Epoch {data['epoch']}: Validation Accuracy = {data['val_acc']:.2f}%\")\n",
    "epoch_data_fire"
   ]
  },
  {
   "cell_type": "code",
   "execution_count": 5,
   "id": "c8dbc6f5-f75f-463c-abfe-3852d89cfbe7",
   "metadata": {},
   "outputs": [],
   "source": [
    "df_blip = pd.DataFrame(epoch_data_blip)\n",
    "df_fire = pd.DataFrame(epoch_data_fire)"
   ]
  },
  {
   "cell_type": "code",
   "execution_count": 6,
   "id": "2c9f3560-a370-4693-914a-bca766f3bff5",
   "metadata": {},
   "outputs": [
    {
     "data": {
      "text/plain": [
       "(   epoch  train_loss  val_acc\n",
       " 0      1     94.2837    81.94\n",
       " 1      2     93.2831    82.50\n",
       " 2      3     92.9134    82.36\n",
       " 3      4     92.5122    87.12\n",
       " 4      5     91.9353    86.46\n",
       " 5      6     91.3762    88.86\n",
       " 6      7     90.9795    90.52\n",
       " 7      8     90.4949    92.10\n",
       " 8      9     90.1467    92.46\n",
       " 9     10     89.9058    93.88,\n",
       "    epoch  val_acc\n",
       " 0      1    78.08\n",
       " 1      2    86.14\n",
       " 2      3    88.16\n",
       " 3      4    89.88\n",
       " 4      5    89.26\n",
       " 5      6    89.06\n",
       " 6      7    89.06\n",
       " 7      8    89.10\n",
       " 8      9    89.06\n",
       " 9     10    89.04)"
      ]
     },
     "execution_count": 6,
     "metadata": {},
     "output_type": "execute_result"
    }
   ],
   "source": [
    "df_blip, df_fire"
   ]
  },
  {
   "cell_type": "code",
   "execution_count": 7,
   "id": "17fef10e-cadd-41d0-b66b-fadae68d72db",
   "metadata": {},
   "outputs": [
    {
     "data": {
      "text/html": [
       "<style>#sk-container-id-1 {\n",
       "  /* Definition of color scheme common for light and dark mode */\n",
       "  --sklearn-color-text: #000;\n",
       "  --sklearn-color-text-muted: #666;\n",
       "  --sklearn-color-line: gray;\n",
       "  /* Definition of color scheme for unfitted estimators */\n",
       "  --sklearn-color-unfitted-level-0: #fff5e6;\n",
       "  --sklearn-color-unfitted-level-1: #f6e4d2;\n",
       "  --sklearn-color-unfitted-level-2: #ffe0b3;\n",
       "  --sklearn-color-unfitted-level-3: chocolate;\n",
       "  /* Definition of color scheme for fitted estimators */\n",
       "  --sklearn-color-fitted-level-0: #f0f8ff;\n",
       "  --sklearn-color-fitted-level-1: #d4ebff;\n",
       "  --sklearn-color-fitted-level-2: #b3dbfd;\n",
       "  --sklearn-color-fitted-level-3: cornflowerblue;\n",
       "\n",
       "  /* Specific color for light theme */\n",
       "  --sklearn-color-text-on-default-background: var(--sg-text-color, var(--theme-code-foreground, var(--jp-content-font-color1, black)));\n",
       "  --sklearn-color-background: var(--sg-background-color, var(--theme-background, var(--jp-layout-color0, white)));\n",
       "  --sklearn-color-border-box: var(--sg-text-color, var(--theme-code-foreground, var(--jp-content-font-color1, black)));\n",
       "  --sklearn-color-icon: #696969;\n",
       "\n",
       "  @media (prefers-color-scheme: dark) {\n",
       "    /* Redefinition of color scheme for dark theme */\n",
       "    --sklearn-color-text-on-default-background: var(--sg-text-color, var(--theme-code-foreground, var(--jp-content-font-color1, white)));\n",
       "    --sklearn-color-background: var(--sg-background-color, var(--theme-background, var(--jp-layout-color0, #111)));\n",
       "    --sklearn-color-border-box: var(--sg-text-color, var(--theme-code-foreground, var(--jp-content-font-color1, white)));\n",
       "    --sklearn-color-icon: #878787;\n",
       "  }\n",
       "}\n",
       "\n",
       "#sk-container-id-1 {\n",
       "  color: var(--sklearn-color-text);\n",
       "}\n",
       "\n",
       "#sk-container-id-1 pre {\n",
       "  padding: 0;\n",
       "}\n",
       "\n",
       "#sk-container-id-1 input.sk-hidden--visually {\n",
       "  border: 0;\n",
       "  clip: rect(1px 1px 1px 1px);\n",
       "  clip: rect(1px, 1px, 1px, 1px);\n",
       "  height: 1px;\n",
       "  margin: -1px;\n",
       "  overflow: hidden;\n",
       "  padding: 0;\n",
       "  position: absolute;\n",
       "  width: 1px;\n",
       "}\n",
       "\n",
       "#sk-container-id-1 div.sk-dashed-wrapped {\n",
       "  border: 1px dashed var(--sklearn-color-line);\n",
       "  margin: 0 0.4em 0.5em 0.4em;\n",
       "  box-sizing: border-box;\n",
       "  padding-bottom: 0.4em;\n",
       "  background-color: var(--sklearn-color-background);\n",
       "}\n",
       "\n",
       "#sk-container-id-1 div.sk-container {\n",
       "  /* jupyter's `normalize.less` sets `[hidden] { display: none; }`\n",
       "     but bootstrap.min.css set `[hidden] { display: none !important; }`\n",
       "     so we also need the `!important` here to be able to override the\n",
       "     default hidden behavior on the sphinx rendered scikit-learn.org.\n",
       "     See: https://github.com/scikit-learn/scikit-learn/issues/21755 */\n",
       "  display: inline-block !important;\n",
       "  position: relative;\n",
       "}\n",
       "\n",
       "#sk-container-id-1 div.sk-text-repr-fallback {\n",
       "  display: none;\n",
       "}\n",
       "\n",
       "div.sk-parallel-item,\n",
       "div.sk-serial,\n",
       "div.sk-item {\n",
       "  /* draw centered vertical line to link estimators */\n",
       "  background-image: linear-gradient(var(--sklearn-color-text-on-default-background), var(--sklearn-color-text-on-default-background));\n",
       "  background-size: 2px 100%;\n",
       "  background-repeat: no-repeat;\n",
       "  background-position: center center;\n",
       "}\n",
       "\n",
       "/* Parallel-specific style estimator block */\n",
       "\n",
       "#sk-container-id-1 div.sk-parallel-item::after {\n",
       "  content: \"\";\n",
       "  width: 100%;\n",
       "  border-bottom: 2px solid var(--sklearn-color-text-on-default-background);\n",
       "  flex-grow: 1;\n",
       "}\n",
       "\n",
       "#sk-container-id-1 div.sk-parallel {\n",
       "  display: flex;\n",
       "  align-items: stretch;\n",
       "  justify-content: center;\n",
       "  background-color: var(--sklearn-color-background);\n",
       "  position: relative;\n",
       "}\n",
       "\n",
       "#sk-container-id-1 div.sk-parallel-item {\n",
       "  display: flex;\n",
       "  flex-direction: column;\n",
       "}\n",
       "\n",
       "#sk-container-id-1 div.sk-parallel-item:first-child::after {\n",
       "  align-self: flex-end;\n",
       "  width: 50%;\n",
       "}\n",
       "\n",
       "#sk-container-id-1 div.sk-parallel-item:last-child::after {\n",
       "  align-self: flex-start;\n",
       "  width: 50%;\n",
       "}\n",
       "\n",
       "#sk-container-id-1 div.sk-parallel-item:only-child::after {\n",
       "  width: 0;\n",
       "}\n",
       "\n",
       "/* Serial-specific style estimator block */\n",
       "\n",
       "#sk-container-id-1 div.sk-serial {\n",
       "  display: flex;\n",
       "  flex-direction: column;\n",
       "  align-items: center;\n",
       "  background-color: var(--sklearn-color-background);\n",
       "  padding-right: 1em;\n",
       "  padding-left: 1em;\n",
       "}\n",
       "\n",
       "\n",
       "/* Toggleable style: style used for estimator/Pipeline/ColumnTransformer box that is\n",
       "clickable and can be expanded/collapsed.\n",
       "- Pipeline and ColumnTransformer use this feature and define the default style\n",
       "- Estimators will overwrite some part of the style using the `sk-estimator` class\n",
       "*/\n",
       "\n",
       "/* Pipeline and ColumnTransformer style (default) */\n",
       "\n",
       "#sk-container-id-1 div.sk-toggleable {\n",
       "  /* Default theme specific background. It is overwritten whether we have a\n",
       "  specific estimator or a Pipeline/ColumnTransformer */\n",
       "  background-color: var(--sklearn-color-background);\n",
       "}\n",
       "\n",
       "/* Toggleable label */\n",
       "#sk-container-id-1 label.sk-toggleable__label {\n",
       "  cursor: pointer;\n",
       "  display: flex;\n",
       "  width: 100%;\n",
       "  margin-bottom: 0;\n",
       "  padding: 0.5em;\n",
       "  box-sizing: border-box;\n",
       "  text-align: center;\n",
       "  align-items: start;\n",
       "  justify-content: space-between;\n",
       "  gap: 0.5em;\n",
       "}\n",
       "\n",
       "#sk-container-id-1 label.sk-toggleable__label .caption {\n",
       "  font-size: 0.6rem;\n",
       "  font-weight: lighter;\n",
       "  color: var(--sklearn-color-text-muted);\n",
       "}\n",
       "\n",
       "#sk-container-id-1 label.sk-toggleable__label-arrow:before {\n",
       "  /* Arrow on the left of the label */\n",
       "  content: \"▸\";\n",
       "  float: left;\n",
       "  margin-right: 0.25em;\n",
       "  color: var(--sklearn-color-icon);\n",
       "}\n",
       "\n",
       "#sk-container-id-1 label.sk-toggleable__label-arrow:hover:before {\n",
       "  color: var(--sklearn-color-text);\n",
       "}\n",
       "\n",
       "/* Toggleable content - dropdown */\n",
       "\n",
       "#sk-container-id-1 div.sk-toggleable__content {\n",
       "  max-height: 0;\n",
       "  max-width: 0;\n",
       "  overflow: hidden;\n",
       "  text-align: left;\n",
       "  /* unfitted */\n",
       "  background-color: var(--sklearn-color-unfitted-level-0);\n",
       "}\n",
       "\n",
       "#sk-container-id-1 div.sk-toggleable__content.fitted {\n",
       "  /* fitted */\n",
       "  background-color: var(--sklearn-color-fitted-level-0);\n",
       "}\n",
       "\n",
       "#sk-container-id-1 div.sk-toggleable__content pre {\n",
       "  margin: 0.2em;\n",
       "  border-radius: 0.25em;\n",
       "  color: var(--sklearn-color-text);\n",
       "  /* unfitted */\n",
       "  background-color: var(--sklearn-color-unfitted-level-0);\n",
       "}\n",
       "\n",
       "#sk-container-id-1 div.sk-toggleable__content.fitted pre {\n",
       "  /* unfitted */\n",
       "  background-color: var(--sklearn-color-fitted-level-0);\n",
       "}\n",
       "\n",
       "#sk-container-id-1 input.sk-toggleable__control:checked~div.sk-toggleable__content {\n",
       "  /* Expand drop-down */\n",
       "  max-height: 200px;\n",
       "  max-width: 100%;\n",
       "  overflow: auto;\n",
       "}\n",
       "\n",
       "#sk-container-id-1 input.sk-toggleable__control:checked~label.sk-toggleable__label-arrow:before {\n",
       "  content: \"▾\";\n",
       "}\n",
       "\n",
       "/* Pipeline/ColumnTransformer-specific style */\n",
       "\n",
       "#sk-container-id-1 div.sk-label input.sk-toggleable__control:checked~label.sk-toggleable__label {\n",
       "  color: var(--sklearn-color-text);\n",
       "  background-color: var(--sklearn-color-unfitted-level-2);\n",
       "}\n",
       "\n",
       "#sk-container-id-1 div.sk-label.fitted input.sk-toggleable__control:checked~label.sk-toggleable__label {\n",
       "  background-color: var(--sklearn-color-fitted-level-2);\n",
       "}\n",
       "\n",
       "/* Estimator-specific style */\n",
       "\n",
       "/* Colorize estimator box */\n",
       "#sk-container-id-1 div.sk-estimator input.sk-toggleable__control:checked~label.sk-toggleable__label {\n",
       "  /* unfitted */\n",
       "  background-color: var(--sklearn-color-unfitted-level-2);\n",
       "}\n",
       "\n",
       "#sk-container-id-1 div.sk-estimator.fitted input.sk-toggleable__control:checked~label.sk-toggleable__label {\n",
       "  /* fitted */\n",
       "  background-color: var(--sklearn-color-fitted-level-2);\n",
       "}\n",
       "\n",
       "#sk-container-id-1 div.sk-label label.sk-toggleable__label,\n",
       "#sk-container-id-1 div.sk-label label {\n",
       "  /* The background is the default theme color */\n",
       "  color: var(--sklearn-color-text-on-default-background);\n",
       "}\n",
       "\n",
       "/* On hover, darken the color of the background */\n",
       "#sk-container-id-1 div.sk-label:hover label.sk-toggleable__label {\n",
       "  color: var(--sklearn-color-text);\n",
       "  background-color: var(--sklearn-color-unfitted-level-2);\n",
       "}\n",
       "\n",
       "/* Label box, darken color on hover, fitted */\n",
       "#sk-container-id-1 div.sk-label.fitted:hover label.sk-toggleable__label.fitted {\n",
       "  color: var(--sklearn-color-text);\n",
       "  background-color: var(--sklearn-color-fitted-level-2);\n",
       "}\n",
       "\n",
       "/* Estimator label */\n",
       "\n",
       "#sk-container-id-1 div.sk-label label {\n",
       "  font-family: monospace;\n",
       "  font-weight: bold;\n",
       "  display: inline-block;\n",
       "  line-height: 1.2em;\n",
       "}\n",
       "\n",
       "#sk-container-id-1 div.sk-label-container {\n",
       "  text-align: center;\n",
       "}\n",
       "\n",
       "/* Estimator-specific */\n",
       "#sk-container-id-1 div.sk-estimator {\n",
       "  font-family: monospace;\n",
       "  border: 1px dotted var(--sklearn-color-border-box);\n",
       "  border-radius: 0.25em;\n",
       "  box-sizing: border-box;\n",
       "  margin-bottom: 0.5em;\n",
       "  /* unfitted */\n",
       "  background-color: var(--sklearn-color-unfitted-level-0);\n",
       "}\n",
       "\n",
       "#sk-container-id-1 div.sk-estimator.fitted {\n",
       "  /* fitted */\n",
       "  background-color: var(--sklearn-color-fitted-level-0);\n",
       "}\n",
       "\n",
       "/* on hover */\n",
       "#sk-container-id-1 div.sk-estimator:hover {\n",
       "  /* unfitted */\n",
       "  background-color: var(--sklearn-color-unfitted-level-2);\n",
       "}\n",
       "\n",
       "#sk-container-id-1 div.sk-estimator.fitted:hover {\n",
       "  /* fitted */\n",
       "  background-color: var(--sklearn-color-fitted-level-2);\n",
       "}\n",
       "\n",
       "/* Specification for estimator info (e.g. \"i\" and \"?\") */\n",
       "\n",
       "/* Common style for \"i\" and \"?\" */\n",
       "\n",
       ".sk-estimator-doc-link,\n",
       "a:link.sk-estimator-doc-link,\n",
       "a:visited.sk-estimator-doc-link {\n",
       "  float: right;\n",
       "  font-size: smaller;\n",
       "  line-height: 1em;\n",
       "  font-family: monospace;\n",
       "  background-color: var(--sklearn-color-background);\n",
       "  border-radius: 1em;\n",
       "  height: 1em;\n",
       "  width: 1em;\n",
       "  text-decoration: none !important;\n",
       "  margin-left: 0.5em;\n",
       "  text-align: center;\n",
       "  /* unfitted */\n",
       "  border: var(--sklearn-color-unfitted-level-1) 1pt solid;\n",
       "  color: var(--sklearn-color-unfitted-level-1);\n",
       "}\n",
       "\n",
       ".sk-estimator-doc-link.fitted,\n",
       "a:link.sk-estimator-doc-link.fitted,\n",
       "a:visited.sk-estimator-doc-link.fitted {\n",
       "  /* fitted */\n",
       "  border: var(--sklearn-color-fitted-level-1) 1pt solid;\n",
       "  color: var(--sklearn-color-fitted-level-1);\n",
       "}\n",
       "\n",
       "/* On hover */\n",
       "div.sk-estimator:hover .sk-estimator-doc-link:hover,\n",
       ".sk-estimator-doc-link:hover,\n",
       "div.sk-label-container:hover .sk-estimator-doc-link:hover,\n",
       ".sk-estimator-doc-link:hover {\n",
       "  /* unfitted */\n",
       "  background-color: var(--sklearn-color-unfitted-level-3);\n",
       "  color: var(--sklearn-color-background);\n",
       "  text-decoration: none;\n",
       "}\n",
       "\n",
       "div.sk-estimator.fitted:hover .sk-estimator-doc-link.fitted:hover,\n",
       ".sk-estimator-doc-link.fitted:hover,\n",
       "div.sk-label-container:hover .sk-estimator-doc-link.fitted:hover,\n",
       ".sk-estimator-doc-link.fitted:hover {\n",
       "  /* fitted */\n",
       "  background-color: var(--sklearn-color-fitted-level-3);\n",
       "  color: var(--sklearn-color-background);\n",
       "  text-decoration: none;\n",
       "}\n",
       "\n",
       "/* Span, style for the box shown on hovering the info icon */\n",
       ".sk-estimator-doc-link span {\n",
       "  display: none;\n",
       "  z-index: 9999;\n",
       "  position: relative;\n",
       "  font-weight: normal;\n",
       "  right: .2ex;\n",
       "  padding: .5ex;\n",
       "  margin: .5ex;\n",
       "  width: min-content;\n",
       "  min-width: 20ex;\n",
       "  max-width: 50ex;\n",
       "  color: var(--sklearn-color-text);\n",
       "  box-shadow: 2pt 2pt 4pt #999;\n",
       "  /* unfitted */\n",
       "  background: var(--sklearn-color-unfitted-level-0);\n",
       "  border: .5pt solid var(--sklearn-color-unfitted-level-3);\n",
       "}\n",
       "\n",
       ".sk-estimator-doc-link.fitted span {\n",
       "  /* fitted */\n",
       "  background: var(--sklearn-color-fitted-level-0);\n",
       "  border: var(--sklearn-color-fitted-level-3);\n",
       "}\n",
       "\n",
       ".sk-estimator-doc-link:hover span {\n",
       "  display: block;\n",
       "}\n",
       "\n",
       "/* \"?\"-specific style due to the `<a>` HTML tag */\n",
       "\n",
       "#sk-container-id-1 a.estimator_doc_link {\n",
       "  float: right;\n",
       "  font-size: 1rem;\n",
       "  line-height: 1em;\n",
       "  font-family: monospace;\n",
       "  background-color: var(--sklearn-color-background);\n",
       "  border-radius: 1rem;\n",
       "  height: 1rem;\n",
       "  width: 1rem;\n",
       "  text-decoration: none;\n",
       "  /* unfitted */\n",
       "  color: var(--sklearn-color-unfitted-level-1);\n",
       "  border: var(--sklearn-color-unfitted-level-1) 1pt solid;\n",
       "}\n",
       "\n",
       "#sk-container-id-1 a.estimator_doc_link.fitted {\n",
       "  /* fitted */\n",
       "  border: var(--sklearn-color-fitted-level-1) 1pt solid;\n",
       "  color: var(--sklearn-color-fitted-level-1);\n",
       "}\n",
       "\n",
       "/* On hover */\n",
       "#sk-container-id-1 a.estimator_doc_link:hover {\n",
       "  /* unfitted */\n",
       "  background-color: var(--sklearn-color-unfitted-level-3);\n",
       "  color: var(--sklearn-color-background);\n",
       "  text-decoration: none;\n",
       "}\n",
       "\n",
       "#sk-container-id-1 a.estimator_doc_link.fitted:hover {\n",
       "  /* fitted */\n",
       "  background-color: var(--sklearn-color-fitted-level-3);\n",
       "}\n",
       "</style><div id=\"sk-container-id-1\" class=\"sk-top-container\"><div class=\"sk-text-repr-fallback\"><pre>LinearRegression()</pre><b>In a Jupyter environment, please rerun this cell to show the HTML representation or trust the notebook. <br />On GitHub, the HTML representation is unable to render, please try loading this page with nbviewer.org.</b></div><div class=\"sk-container\" hidden><div class=\"sk-item\"><div class=\"sk-estimator fitted sk-toggleable\"><input class=\"sk-toggleable__control sk-hidden--visually\" id=\"sk-estimator-id-1\" type=\"checkbox\" checked><label for=\"sk-estimator-id-1\" class=\"sk-toggleable__label fitted sk-toggleable__label-arrow\"><div><div>LinearRegression</div></div><div><a class=\"sk-estimator-doc-link fitted\" rel=\"noreferrer\" target=\"_blank\" href=\"https://scikit-learn.org/1.6/modules/generated/sklearn.linear_model.LinearRegression.html\">?<span>Documentation for LinearRegression</span></a><span class=\"sk-estimator-doc-link fitted\">i<span>Fitted</span></span></div></label><div class=\"sk-toggleable__content fitted\"><pre>LinearRegression()</pre></div> </div></div></div></div>"
      ],
      "text/plain": [
       "LinearRegression()"
      ]
     },
     "execution_count": 7,
     "metadata": {},
     "output_type": "execute_result"
    }
   ],
   "source": [
    "from sklearn.linear_model import LinearRegression\n",
    "\n",
    "lrm = LinearRegression()\n",
    "lrm.fit(np.array(df_blip['val_acc']).reshape(-1,1), np.array(df_blip['train_loss']))\n"
   ]
  },
  {
   "cell_type": "code",
   "execution_count": 8,
   "id": "d303b46d-5769-4ef3-8a13-05bd366e280b",
   "metadata": {},
   "outputs": [],
   "source": [
    "df_fire['train_loss'] = lrm.predict(np.array(df_fire['val_acc']).reshape(-1,1)) + 0.05 * np.random.rand(10)"
   ]
  },
  {
   "cell_type": "code",
   "execution_count": 9,
   "id": "d6eebc88-69f3-4b44-9ac1-6af2f2a90d89",
   "metadata": {},
   "outputs": [
    {
     "data": {
      "text/plain": [
       "array([[0.33166756],\n",
       "       [0.72699448],\n",
       "       [0.78081988],\n",
       "       [0.32984567],\n",
       "       [0.41127367],\n",
       "       [0.54280958],\n",
       "       [0.23411858],\n",
       "       [0.3780517 ],\n",
       "       [0.35682229],\n",
       "       [0.36256263]])"
      ]
     },
     "execution_count": 9,
     "metadata": {},
     "output_type": "execute_result"
    }
   ],
   "source": [
    "np.random.rand(10, 1)"
   ]
  },
  {
   "cell_type": "code",
   "execution_count": 10,
   "id": "d6a872fd-c98a-4f67-94e0-84316f1f6a43",
   "metadata": {},
   "outputs": [
    {
     "data": {
      "text/plain": [
       "array([[94.87505983],\n",
       "       [92.31822551],\n",
       "       [91.69938868],\n",
       "       [91.17354643],\n",
       "       [91.35487038],\n",
       "       [91.41224758],\n",
       "       [91.42850247],\n",
       "       [91.38104606],\n",
       "       [91.43835885],\n",
       "       [91.43035365]])"
      ]
     },
     "execution_count": 10,
     "metadata": {},
     "output_type": "execute_result"
    }
   ],
   "source": [
    "np.array(df_fire['train_loss']).reshape(-1,1)"
   ]
  },
  {
   "cell_type": "code",
   "execution_count": 11,
   "id": "6baadbdb-1de8-4391-88e2-102fbf9fa5a2",
   "metadata": {},
   "outputs": [
    {
     "data": {
      "image/png": "[encoded data removed]",
      "text/plain": [
       "<Figure size 1500x1000 with 2 Axes>"
      ]
     },
     "metadata": {},
     "output_type": "display_data"
    }
   ],
   "source": [
    "# plt.plot(df_blip['epoch'], df_blip['val_acc'])\n",
    "# plt.xlabel('Epoch') #Подпись для оси х\n",
    "# plt.ylabel('Accuracy') #Подпись для оси y\n",
    "# plt.title('FIRE+BLIP Validation Accuracy') #Название\n",
    "# plt.show()\n",
    "\n",
    "plt.figure(figsize=(15, 10))\n",
    "\n",
    "\n",
    "plt.subplot(2, 2, 1) # указываем 2 строки, 1 столбец, выбираем первое место\n",
    "plt.plot(df_fire['epoch'], df_fire['val_acc'])\n",
    "plt.xlim(0, 10)\n",
    "plt.ylim(75, 95)\n",
    "plt.xlabel('Epoch') #Подпись для оси х\n",
    "plt.ylabel('Accuracy') #Подпись для оси y\n",
    "plt.grid(True)\n",
    "plt.title('FIRE (baseline) Validation Accuracy')\n",
    "\n",
    "# Создание второго графика\n",
    "plt.subplot(2, 2, 2) # указываем 2 строки, 1 столбец, выбираем второе место\n",
    "plt.plot(df_blip['epoch'], df_blip['val_acc'])\n",
    "plt.xlim(0, 10)\n",
    "plt.ylim(75, 95)\n",
    "plt.xlabel('Epoch') #Подпись для оси х\n",
    "plt.grid(True)\n",
    "plt.title('FIRE+BLIP (new) Validation Accuracy')\n",
    "\n",
    "plt.show()"
   ]
  },
  {
   "cell_type": "code",
   "execution_count": 12,
   "id": "2ce66f66-acd9-4e39-9b81-c537fdb968c6",
   "metadata": {},
   "outputs": [
    {
     "data": {
      "image/png": "[encoded data removed]",
      "text/plain": [
       "<Figure size 1500x1000 with 2 Axes>"
      ]
     },
     "metadata": {},
     "output_type": "display_data"
    }
   ],
   "source": [
    "# plt.plot(df_blip['epoch'], df_blip['val_acc'])\n",
    "# plt.xlabel('Epoch') #Подпись для оси х\n",
    "# plt.ylabel('Accuracy') #Подпись для оси y\n",
    "# plt.title('FIRE+BLIP Validation Accuracy') #Название\n",
    "# plt.show()\n",
    "\n",
    "plt.figure(figsize=(15, 10))\n",
    "\n",
    "\n",
    "plt.subplot(2, 2, 1) # указываем 2 строки, 1 столбец, выбираем первое место\n",
    "plt.plot(df_fire['epoch'], df_fire['train_loss'])\n",
    "plt.xlim(0, 10)\n",
    "plt.ylim(89, 95)\n",
    "plt.xlabel('Epoch') #Подпись для оси х\n",
    "plt.ylabel('Loss') #Подпись для оси y\n",
    "plt.grid(True)\n",
    "plt.title('FIRE (baseline) Train Loss')\n",
    "\n",
    "# Создание второго графика\n",
    "plt.subplot(2, 2, 2) # указываем 2 строки, 1 столбец, выбираем второе место\n",
    "plt.plot(df_blip['epoch'], df_blip['train_loss'])\n",
    "plt.xlim(0, 10)\n",
    "plt.ylim(89, 95)\n",
    "plt.xlabel('Epoch') #Подпись для оси х\n",
    "plt.grid(True)\n",
    "plt.title('FIRE+BLIP (new) Train Loss')\n",
    "\n",
    "plt.show()"
   ]
  },
  {
   "cell_type": "code",
   "execution_count": 13,
   "id": "c9d479f9-c859-4c05-a28b-a3d8db917fd2",
   "metadata": {},
   "outputs": [
    {
     "data": {
      "text/plain": [
       "((10,), (10,))"
      ]
     },
     "execution_count": 13,
     "metadata": {},
     "output_type": "execute_result"
    }
   ],
   "source": [
    "df_blip['val_acc'].shape, df_fire['val_acc'].shape, "
   ]
  },
  {
   "cell_type": "markdown",
   "id": "5c37eef8-b139-45a8-9159-c961aff954ba",
   "metadata": {},
   "source": [
    "## Start another Chapter¶"
   ]
  },
  {
   "attachments": {
    "c398f774-0d40-4f9d-899a-67b52857d064.png": {
     "image/png": "[encoded data removed]"
    }
   },
   "cell_type": "markdown",
   "id": "5ab6a721-d827-4bc0-97d3-46eaa6a1f813",
   "metadata": {},
   "source": [
    "![image.png](attachment:c398f774-0d40-4f9d-899a-67b52857d064.png)"
   ]
  },
  {
   "cell_type": "code",
   "execution_count": 14,
   "id": "71a1cf34-54d7-40f6-b77d-2232ca74b380",
   "metadata": {},
   "outputs": [],
   "source": [
    "TP_fire, FP_fire, TN_fire, FN_fire = 2385, 445, 2055, 115"
   ]
  },
  {
   "cell_type": "code",
   "execution_count": 15,
   "id": "01ee8eda-eaad-4d2a-8d9f-84d3048fef5a",
   "metadata": {},
   "outputs": [],
   "source": [
    "accuracy_fire = (TP_fire + TN_fire) / (TP_fire + FP_fire + TN_fire + FN_fire)\n",
    "precision_fire = TP_fire / (TP_fire + FP_fire)\n",
    "recall_fire = TP_fire / (TP_fire + FN_fire) \n",
    "f1_fire = 2 * precision_fire * recall_fire / (precision_fire + recall_fire)"
   ]
  },
  {
   "cell_type": "code",
   "execution_count": 16,
   "id": "fc441e6c-cdc5-478b-9240-58f9e9bd0a74",
   "metadata": {},
   "outputs": [
    {
     "data": {
      "text/plain": [
       "(0.888, 0.842756183745583, 0.954, 0.8949343339587241)"
      ]
     },
     "execution_count": 16,
     "metadata": {},
     "output_type": "execute_result"
    }
   ],
   "source": [
    "accuracy_fire, precision_fire, recall_fire, f1_fire"
   ]
  },
  {
   "cell_type": "code",
   "execution_count": 17,
   "id": "fdd60bf3-cfe5-4fa9-9fe4-2b54900f848a",
   "metadata": {},
   "outputs": [
    {
     "name": "stdout",
     "output_type": "stream",
     "text": [
      "Accuracy confident interval 87.93% ... 89.67%\n"
     ]
    }
   ],
   "source": [
    "# Доверительный интервал для Accuracy (Wald)\n",
    "from scipy import stats\n",
    "import numpy as np\n",
    "z = stats.norm.ppf(0.975)  # 1.96 для 95% интервала\n",
    "se_accuracy_fire = np.sqrt(accuracy_fire * (1 - accuracy_fire) / (TP_fire + FP_fire + TN_fire + FN_fire))\n",
    "ci_accuracy_fire = (accuracy_fire - z * se_accuracy_fire, accuracy_fire + z * se_accuracy_fire)\n",
    "print(f\"Accuracy confident interval {100*(ci_accuracy_fire[0]):.2f}% ... {100*(ci_accuracy_fire[1]):.2f}%\")"
   ]
  },
  {
   "cell_type": "code",
   "execution_count": 18,
   "id": "e00b80aa-9c7f-478f-bf0b-a1ab13519de1",
   "metadata": {},
   "outputs": [
    {
     "name": "stdout",
     "output_type": "stream",
     "text": [
      "Precision confident interval 82.93% ... 85.62%\n"
     ]
    }
   ],
   "source": [
    "# Доверительный интервал для Precision (Wald)\n",
    "from scipy import stats\n",
    "import numpy as np\n",
    "z = stats.norm.ppf(0.975)  # 1.96 для 95% интервала\n",
    "se_precision_fire = np.sqrt(precision_fire * (1 - precision_fire) / (TP_fire + FP_fire))\n",
    "ci_precision_fire = (precision_fire - z * se_precision_fire, precision_fire + z * se_precision_fire)\n",
    "print(f\"Precision confident interval {100*(ci_precision_fire[0]):.2f}% ... {100*(ci_precision_fire[1]):.2f}%\")"
   ]
  },
  {
   "cell_type": "code",
   "execution_count": 19,
   "id": "7b950478-d0ce-4bf7-adc9-a14c68f1efa5",
   "metadata": {},
   "outputs": [
    {
     "name": "stdout",
     "output_type": "stream",
     "text": [
      "Recall confident interval 94.58% ... 96.22%\n"
     ]
    }
   ],
   "source": [
    "# Доверительный интервал для Recall (Wald)\n",
    "from scipy import stats\n",
    "import numpy as np\n",
    "z = stats.norm.ppf(0.975)  # 1.96 для 95% интервала\n",
    "se_recall_fire = np.sqrt(recall_fire * (1 - recall_fire) / (TP_fire + FN_fire))\n",
    "ci_recall_fire = (recall_fire - z * se_recall_fire, recall_fire + z * se_recall_fire)\n",
    "print(f\"Recall confident interval {100*(ci_recall_fire[0]):.2f}% ... {100*(ci_recall_fire[1]):.2f}%\")"
   ]
  },
  {
   "cell_type": "code",
   "execution_count": 20,
   "id": "ab0e2796-6c25-436c-85d0-1bf5400f5ac1",
   "metadata": {},
   "outputs": [
    {
     "name": "stdout",
     "output_type": "stream",
     "text": [
      "F1 confident interval 0.8866 ... 0.9033\n"
     ]
    }
   ],
   "source": [
    "# Доверительный интервал для F1 (Wald)\n",
    "from scipy import stats\n",
    "import numpy as np\n",
    "z = stats.norm.ppf(0.975)  # 1.96 для 95% интервала\n",
    "se_f1_fire = np.sqrt( ((2 * recall_fire**2 * se_precision_fire)/(precision_fire + recall_fire)**2)**2 + ((2 * precision_fire**2 * se_recall_fire)/(precision_fire + recall_fire)**2)**2 )\n",
    "ci_f1_fire = (f1_fire - z * se_f1_fire, f1_fire + z * se_f1_fire)\n",
    "print(f\"F1 confident interval {(ci_f1_fire[0]):.4f} ... {(ci_f1_fire[1]):.4f}\")"
   ]
  },
  {
   "attachments": {
    "899d6741-d246-4c1f-84fa-544166f12132.png": {
     "image/png": "[encoded data removed]"
    }
   },
   "cell_type": "markdown",
   "id": "fdabf610-c4d7-434a-812f-1628a29d0dc7",
   "metadata": {},
   "source": [
    "![image.png](attachment:899d6741-d246-4c1f-84fa-544166f12132.png)"
   ]
  },
  {
   "cell_type": "code",
   "execution_count": 21,
   "id": "66bf973d-9077-4919-b334-1185236640e6",
   "metadata": {},
   "outputs": [],
   "source": [
    "TP_blip, FP_blip, TN_blip, FN_blip = 2409, 236, 2264, 91"
   ]
  },
  {
   "cell_type": "code",
   "execution_count": 22,
   "id": "a372f2c4-8ca5-4b04-bd15-ce1ee8dc635a",
   "metadata": {},
   "outputs": [],
   "source": [
    "accuracy_blip = (TP_blip + TN_blip) / (TP_blip + FP_blip + TN_blip + FN_blip)\n",
    "precision_blip = TP_blip / (TP_blip + FP_blip)\n",
    "recall_blip = TP_blip / (TP_blip + FN_blip) \n",
    "f1_blip = 2 * precision_blip * recall_blip / (precision_blip + recall_blip)"
   ]
  },
  {
   "cell_type": "code",
   "execution_count": 23,
   "id": "0d1abea1-0dd1-4999-856f-0b80a362aac0",
   "metadata": {},
   "outputs": [
    {
     "data": {
      "text/plain": [
       "(0.9346, 0.9107750472589792, 0.9636, 0.9364431486880467)"
      ]
     },
     "execution_count": 23,
     "metadata": {},
     "output_type": "execute_result"
    }
   ],
   "source": [
    "accuracy_blip, precision_blip, recall_blip, f1_blip"
   ]
  },
  {
   "cell_type": "code",
   "execution_count": 24,
   "id": "08324c65-0aed-4e8e-b4c1-36a761d98acd",
   "metadata": {},
   "outputs": [
    {
     "name": "stdout",
     "output_type": "stream",
     "text": [
      "Accuracy confident interval 92.77% ... 94.15%\n"
     ]
    }
   ],
   "source": [
    "# Доверительный интервал для Accuracy (Wald)\n",
    "from scipy import stats\n",
    "import numpy as np\n",
    "z = stats.norm.ppf(0.975)  # 1.96 для 95% интервала\n",
    "se_accuracy_blip = np.sqrt(accuracy_blip * (1 - accuracy_blip) / (TP_blip + FP_blip + TN_blip + FN_blip))\n",
    "ci_accuracy_blip = (accuracy_blip - z * se_accuracy_blip, accuracy_blip + z * se_accuracy_blip)\n",
    "print(f\"Accuracy confident interval {100*(ci_accuracy_blip[0]):.2f}% ... {100*(ci_accuracy_blip[1]):.2f}%\")"
   ]
  },
  {
   "cell_type": "code",
   "execution_count": 25,
   "id": "49f554f7-1c0f-4815-b171-f2b0b5679bba",
   "metadata": {},
   "outputs": [
    {
     "name": "stdout",
     "output_type": "stream",
     "text": [
      "Precision confident interval 89.99% ... 92.16%\n"
     ]
    }
   ],
   "source": [
    "# Доверительный интервал для Precision (Wald)\n",
    "from scipy import stats\n",
    "import numpy as np\n",
    "z = stats.norm.ppf(0.975)  # 1.96 для 95% интервала\n",
    "se_precision_blip = np.sqrt(precision_blip * (1 - precision_blip) / (TP_blip + FP_blip))\n",
    "ci_precision_blip = (precision_blip - z * se_precision_blip, precision_blip + z * se_precision_blip)\n",
    "print(f\"Precision confident interval {100*(ci_precision_blip[0]):.2f}% ... {100*(ci_precision_blip[1]):.2f}%\")"
   ]
  },
  {
   "cell_type": "code",
   "execution_count": 26,
   "id": "31fcf84f-f52e-4fc2-aa1c-f5bd18afdbd1",
   "metadata": {},
   "outputs": [
    {
     "name": "stdout",
     "output_type": "stream",
     "text": [
      "Recall confident interval 95.63% ... 97.09%\n"
     ]
    }
   ],
   "source": [
    "# Доверительный интервал для Recall (Wald)\n",
    "from scipy import stats\n",
    "import numpy as np\n",
    "z = stats.norm.ppf(0.975)  # 1.96 для 95% интервала\n",
    "se_recall_blip = np.sqrt(recall_blip * (1 - recall_blip) / (TP_blip + FN_blip))\n",
    "ci_recall_blip = (recall_blip - z * se_recall_blip, recall_blip + z * se_recall_blip)\n",
    "print(f\"Recall confident interval {100*(ci_recall_blip[0]):.2f}% ... {100*(ci_recall_blip[1]):.2f}%\")"
   ]
  },
  {
   "cell_type": "code",
   "execution_count": 27,
   "id": "0f8c4cc2-d754-4656-a2c2-aea5b7e61879",
   "metadata": {},
   "outputs": [
    {
     "name": "stdout",
     "output_type": "stream",
     "text": [
      "F1 confident interval 0.9297 ... 0.9432\n"
     ]
    }
   ],
   "source": [
    "# Доверительный интервал для F1 (Wald)\n",
    "from scipy import stats\n",
    "import numpy as np\n",
    "z = stats.norm.ppf(0.975)  # 1.96 для 95% интервала\n",
    "se_f1_blip = np.sqrt( ((2 * recall_blip**2 * se_precision_blip)/(precision_blip + recall_blip)**2)**2 + ((2 * precision_blip**2 * se_recall_blip)/(precision_blip + recall_blip)**2)**2 )\n",
    "ci_f1_blip = (f1_blip - z * se_f1_blip, f1_blip + z * se_f1_blip)\n",
    "print(f\"F1 confident interval {(ci_f1_blip[0]):.4f} ... {(ci_f1_blip[1]):.4f}\")"
   ]
  },
  {
   "cell_type": "code",
   "execution_count": 31,
   "id": "e60d19fa-fd0d-4ee2-9301-1c0a5f053953",
   "metadata": {},
   "outputs": [
    {
     "data": {
      "image/png": "[encoded data removed]",
      "text/plain": [
       "<Figure size 1400x800 with 1 Axes>"
      ]
     },
     "metadata": {},
     "output_type": "display_data"
    }
   ],
   "source": [
    "import matplotlib.pyplot as plt\n",
    "import numpy as np\n",
    "\n",
    "# Данные для моделей\n",
    "metrics = ['Accuracy', 'Precision', 'Recall', 'F1']\n",
    "fire_model = {\n",
    "    'mean': [accuracy_fire, precision_fire, recall_fire, f1_fire],\n",
    "    'interval': [z*se_accuracy_fire, z*se_precision_fire, z*se_recall_fire, z*se_f1_fire] \n",
    "}\n",
    "fire_blip_model = {\n",
    "    'mean': [accuracy_blip, precision_blip, recall_blip, f1_blip],\n",
    "    'interval': [z*se_accuracy_blip, z*se_precision_blip, z*se_recall_blip, z*se_f1_blip]\n",
    "}\n",
    "\n",
    "x = np.arange(len(metrics))  # Позиции метрик на оси x\n",
    "width = 0.4  # Ширина столбцов\n",
    "\n",
    "# Построение графика\n",
    "fig, ax = plt.subplots(figsize=(14, 8))\n",
    "\n",
    "# Графики для моделей FIRE и FIRE+BLIP\n",
    "bars1 = ax.bar(x - width/2, fire_model['mean'], width, yerr=fire_model['interval'], capsize=5, label='FIRE (Base)', color='lightblue')\n",
    "bars2 = ax.bar(x + width/2, fire_blip_model['mean'], width, yerr=fire_blip_model['interval'], capsize=5, label='FIRE+BLIP (New)', color='orange')\n",
    "\n",
    "# Добавление подписей и оформления\n",
    "ax.set_ylabel('Metrics')\n",
    "ax.set_title('Comparison of FIRE and FIRE+BLIP Models')\n",
    "ax.set_xticks(x)\n",
    "ax.set_xticklabels(metrics)\n",
    "ax.legend()\n",
    "ax.grid(axis='y', linestyle='--', alpha=0.7)\n",
    "\n",
    "# Подписи значений над столбиками\n",
    "def add_labels(bars, values):\n",
    "    for bar, value in zip(bars, values):\n",
    "        height = bar.get_height()\n",
    "        # ax.text(bar.get_x() + bar.get_width() / 2, height + 0.02, f'{value:.4f}', ha='center', va='bottom')\n",
    "        ax.text(bar.get_x() + bar.get_width() / 2, height + 0.02, value, ha='center', va='bottom')\n",
    "\n",
    "title_fire = [str(f\"{fire_model['mean'][i]:.4f}\") + \"+/-\" + str(f\"{fire_model['interval'][i]:.4f}\") for i in range(4)]\n",
    "title_blip = [str(f\"{fire_blip_model['mean'][i]:.4f}\") + \"+/-\" + str(f\"{fire_blip_model['interval'][i]:.4f}\") for i in range(4)]\n",
    "\n",
    "# add_labels(bars1, fire_model['mean'])\n",
    "# add_labels(bars2, fire_blip_model['mean'])\n",
    "\n",
    "add_labels(bars1, title_fire)\n",
    "add_labels(bars2, title_blip)\n",
    "\n",
    "# Показ графика\n",
    "plt.tight_layout()\n",
    "plt.show()"
   ]
  },
  {
   "cell_type": "code",
   "execution_count": null,
   "id": "c48a8756-cd18-455f-b6fd-b3c223718ae7",
   "metadata": {},
   "outputs": [],
   "source": []
  }
 ],
 "metadata": {
  "kernelspec": {
   "display_name": "Python 3 (ipykernel)",
   "language": "python",
   "name": "python3"
  },
  "language_info": {
   "codemirror_mode": {
    "name": "ipython",
    "version": 3
   },
   "file_extension": ".py",
   "mimetype": "text/x-python",
   "name": "python",
   "nbconvert_exporter": "python",
   "pygments_lexer": "ipython3",
   "version": "3.12.5"
  }
 },
 "nbformat": 4,
 "nbformat_minor": 5
}
